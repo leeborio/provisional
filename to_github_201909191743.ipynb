{
 "cells": [
  {
   "cell_type": "code",
   "execution_count": 2,
   "metadata": {},
   "outputs": [
    {
     "data": {
      "text/plain": [
       "<BarContainer object of 4 artists>"
      ]
     },
     "execution_count": 2,
     "metadata": {},
     "output_type": "execute_result"
    },
    {
     "data": {
      "image/png": "[encoded data removed]",
      "text/plain": [
       "<Figure size 432x288 with 1 Axes>"
      ]
     },
     "metadata": {
      "needs_background": "light"
     },
     "output_type": "display_data"
    }
   ],
   "source": [
    "import pandas as P\n",
    "from matplotlib import pyplot as PP\n",
    "csv_load = P.read_csv('https://raw.githubusercontent.com/letdata/provisional/master/ny_res_median_units_price_by_county_clean.csv', index_col=['county', 'year_'])\n",
    "\n",
    "g_data = csv_load\n",
    "g_data['transactions'] = g_data['transactions'].str.replace(',', '').astype(int)\n",
    "g_data['transactions_pc'] = g_data.sort_values(by=['county', 'year_']).groupby(['county']).transactions.pct_change(1)\n",
    "g_data['median_'] = g_data['median_'].str.replace(',', '').astype(int)\n",
    "g_data['median_pc'] = g_data.sort_values(by=['county', 'year_']).groupby(['county']).median_.pct_change()\n",
    "\n",
    "tmax_2017 = g_data.query(\"year_ == 2017\").sort_values(by=['county', 'year_']).transactions_pc.max()\n",
    "tmax_2018 = g_data.query(\"year_ == 2018\").sort_values(by=['county', 'year_']).transactions_pc.max()\n",
    "tmax2017 = g_data.loc[g_data['transactions_pc'] == tmax_2017]\n",
    "tmax2018 = g_data.loc[g_data['transactions_pc'] == tmax_2018]\n",
    "\n",
    "tmin_2017 = g_data.query(\"year_ == 2017\").sort_values(by=['county', 'year_']).transactions_pc.min()\n",
    "tmin_2018 = g_data.query(\"year_ == 2018\").sort_values(by=['county', 'year_']).transactions_pc.min()\n",
    "tmin2017 = g_data.loc[g_data['transactions_pc'] == tmin_2017]\n",
    "tmin2018 = g_data.loc[g_data['transactions_pc'] == tmin_2018]\n",
    "\n",
    "tmaxall = P.concat([tmax2017, tmin2017, tmin2018, tmax2018])\n",
    "tplot = tmaxall.iloc[:, 2:3].reset_index()\n",
    "\n",
    "tplot['newc'] = tplot['year_'].astype(str) + \"|\" + tplot['county']\n",
    "\n",
    "PP.bar(tplot['newc'], tplot['transactions_pc'])\n"
   ]
  },
  {
   "cell_type": "code",
   "execution_count": null,
   "metadata": {},
   "outputs": [],
   "source": []
  }
 ],
 "metadata": {
  "kernelspec": {
   "display_name": "Python 3",
   "language": "python",
   "name": "python3"
  },
  "language_info": {
   "codemirror_mode": {
    "name": "ipython",
    "version": 3
   },
   "file_extension": ".py",
   "mimetype": "text/x-python",
   "name": "python",
   "nbconvert_exporter": "python",
   "pygments_lexer": "ipython3",
   "version": "3.7.4"
  }
 },
 "nbformat": 4,
 "nbformat_minor": 4
}
